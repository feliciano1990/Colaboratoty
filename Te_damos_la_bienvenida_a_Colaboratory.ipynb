{
  "nbformat": 4,
  "nbformat_minor": 0,
  "metadata": {
    "colab": {
      "name": "Te damos la bienvenida a Colaboratory",
      "provenance": [],
      "collapsed_sections": [],
      "toc_visible": true,
      "include_colab_link": true
    },
    "kernelspec": {
      "display_name": "Python 3",
      "name": "python3"
    }
  },
  "cells": [
    {
      "cell_type": "markdown",
      "metadata": {
        "id": "view-in-github",
        "colab_type": "text"
      },
      "source": [
        "<a href=\"https://colab.research.google.com/github/feliciano1990/Colaboratoty/blob/master/Te_damos_la_bienvenida_a_Colaboratory.ipynb\" target=\"_parent\"><img src=\"https://colab.research.google.com/assets/colab-badge.svg\" alt=\"Open In Colab\"/></a>"
      ]
    },
    {
      "cell_type": "code",
      "metadata": {
        "id": "0GoPjyDUQLis",
        "colab_type": "code",
        "colab": {
          "base_uri": "https://localhost:8080/",
          "height": 34
        },
        "cellView": "form",
        "outputId": "d43a32cc-f8b8-4847-8ef7-1298eb97bbe6"
      },
      "source": [
        "#@title Sistema operativo/procesador { run: \"auto\", vertical-output: true }\n",
        "op = \"sistema operativo\" #@param [\"sistema operativo\", \"procesador\"]\n",
        "import platform\n",
        "if op ==\"sistema operativo\":\n",
        "  print('system   :', platform.system())\n",
        "else:\n",
        "  print('processor:', platform.processor())\n"
      ],
      "execution_count": 7,
      "outputs": [
        {
          "output_type": "stream",
          "text": [
            "system   : Linux\n"
          ],
          "name": "stdout"
        }
      ]
    },
    {
      "cell_type": "markdown",
      "metadata": {
        "id": "-0FhQT7CQMde",
        "colab_type": "text"
      },
      "source": [
        ""
      ]
    },
    {
      "cell_type": "code",
      "metadata": {
        "id": "jbC0BM_HVND4",
        "colab_type": "code",
        "colab": {
          "base_uri": "https://localhost:8080/",
          "height": 34
        },
        "outputId": "1b5b537f-0f48-41f7-a9da-1f32daf85a6d"
      },
      "source": [
        "\n",
        "#@title Texto de título predeterminado { run: \"auto\", vertical-output: true }\n",
        "np = \"4\" #@param [\"1\", \"2\", \"3\", \"4\"]\n",
        "\n",
        "if np == \"1\":\n",
        "        print (\"fallo en el refresco de la memoria\")\n",
        "elif np == \"2\":\n",
        "          print (\" fallo de memoria. Error de paridad\")\n",
        "elif np == \"3\":\n",
        "      print(\"Fallo en la memoria base de 64K\")\n",
        "elif np == \"4\":\n",
        "      print(\"fallo en el timer del sistema.\")\n",
        "else:\n",
        "      print (\"Error desconocido\")"
      ],
      "execution_count": 9,
      "outputs": [
        {
          "output_type": "stream",
          "text": [
            "fallo en el timer del sistema.\n"
          ],
          "name": "stdout"
        }
      ]
    }
  ]
}